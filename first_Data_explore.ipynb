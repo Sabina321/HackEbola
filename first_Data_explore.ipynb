{
 "metadata": {
  "name": "",
  "signature": "sha256:e101f2af5be01ac6fe821c80a2fde6face7ab4e67c3d91cca974838cc392fad7"
 },
 "nbformat": 3,
 "nbformat_minor": 0,
 "worksheets": [
  {
   "cells": [
    {
     "cell_type": "code",
     "collapsed": false,
     "input": [
      "import pandas as pd\n",
      "from pandas import DataFrame as df\n",
      "import xlrd\n",
      "import matplotlib.pyplot as plt\n",
      "%matplotlib inline"
     ],
     "language": "python",
     "metadata": {},
     "outputs": [],
     "prompt_number": 11
    },
    {
     "cell_type": "code",
     "collapsed": false,
     "input": [
      "filename = 'datasets/data-ebola-public.xlsx'"
     ],
     "language": "python",
     "metadata": {},
     "outputs": [],
     "prompt_number": 2
    },
    {
     "cell_type": "code",
     "collapsed": false,
     "input": [
      "#look at sheets: \n",
      "excel_book = xlrd.open_workbook(filename)\n",
      "excel_book.sheet_names()\n",
      "    "
     ],
     "language": "python",
     "metadata": {},
     "outputs": [
      {
       "metadata": {},
       "output_type": "pyout",
       "prompt_number": 3,
       "text": [
        "[u'Intro', u'ROWCA Ebola All Sec Review']"
       ]
      }
     ],
     "prompt_number": 3
    },
    {
     "cell_type": "code",
     "collapsed": false,
     "input": [
      "ebola_time_series = pd.read_excel(filename, 1)"
     ],
     "language": "python",
     "metadata": {},
     "outputs": [],
     "prompt_number": 4
    },
    {
     "cell_type": "code",
     "collapsed": false,
     "input": [
      "ebola_time_series['Localite']"
     ],
     "language": "python",
     "metadata": {},
     "outputs": [
      {
       "metadata": {},
       "output_type": "pyout",
       "prompt_number": 44,
       "text": [
        "0          Guekedou, Macenta, Nzerekore and Kissidougou\n",
        "1          Guekedou, Macenta, Nzerekore and Kissidougou\n",
        "2                   ( Guekedou, Macenta and Kissidougou\n",
        "3                   ( Guekedou, Macenta and Kissidougou\n",
        "4                   ( Guekedou, Macenta and Kissidougou\n",
        "5                  ( Guekedou, Macenta and Kissidougou)\n",
        "6                  ( Guekedou, Macenta and Kissidougou)\n",
        "7                  ( Guekedou, Macenta and Kissidougou)\n",
        "8     ( Guekedou, Macenta,Kissidougou,Lofa,Kankan an...\n",
        "9                                               Conakry\n",
        "10                                            Gueckedou\n",
        "11                                               Kankan\n",
        "12                                          Kissidougou\n",
        "13                                          Lofa County\n",
        "14                                              Macenta\n",
        "...\n",
        "21956           Bong County\n",
        "21957       Gbarpolu County\n",
        "21958           Grand Bassa\n",
        "21959      Grand Cape Mount\n",
        "21960           Grand Gedeh\n",
        "21961             Grand Kru\n",
        "21962           Lofa County\n",
        "21963        Margibi County\n",
        "21964       Maryland County\n",
        "21965    Montserrado County\n",
        "21966          Nimba County\n",
        "21967      River Gee County\n",
        "21968      RiverCess County\n",
        "21969          Sinoe County\n",
        "21970              National\n",
        "Name: Localite, Length: 21971, dtype: object"
       ]
      }
     ],
     "prompt_number": 44
    },
    {
     "cell_type": "code",
     "collapsed": false,
     "input": [
      "cases= ebola_time_series[ebola_time_series['Category'].str.contains('Cases')& ebola_time_series['Localite'].str.contains('National')&ebola_time_series['Country'].str.contains('Guinea') ]"
     ],
     "language": "python",
     "metadata": {},
     "outputs": [],
     "prompt_number": 45
    },
    {
     "cell_type": "code",
     "collapsed": false,
     "input": [
      "cases['Link']"
     ],
     "language": "python",
     "metadata": {},
     "outputs": [
      {
       "metadata": {},
       "output_type": "pyout",
       "prompt_number": 42,
       "text": [
        "15     http://reliefweb.int/report/guinea/maladie-vir...\n",
        "20     http://reliefweb.int/report/guinea/maladie-vir...\n",
        "33     http://reliefweb.int/report/guinea/ebola-virus...\n",
        "48     http://reliefweb.int/report/guinea/maladie-vir...\n",
        "56     http://reliefweb.int/report/guinea/ebola-virus...\n",
        "79     http://reliefweb.int/report/guinea/maladie-vir...\n",
        "99     http://reliefweb.int/report/guinea/maladie-vir...\n",
        "113    http://reliefweb.int/report/guinea/maladie-vir...\n",
        "145    http://reliefweb.int/report/guinea/maladie-vir...\n",
        "163    http://reliefweb.int/report/guinea/ebola-virus...\n",
        "181    http://reliefweb.int/report/guinea/ebola-virus...\n",
        "216    http://reliefweb.int/report/guinea/ebola-virus...\n",
        "231    http://reliefweb.int/report/guinea/ebola-virus...\n",
        "254    http://reliefweb.int/report/guinea/ebola-virus...\n",
        "269    http://reliefweb.int/report/guinea/maladie-vir...\n",
        "...\n",
        "19069     Sitrep201 02Nov\n",
        "19225     Sitrep202 03Nov\n",
        "19669     Sitrep203 04Nov\n",
        "19825     Sitrep204 05Nov\n",
        "19981     Sitrep205 06Nov\n",
        "20137    Sitrep 206 07Nov\n",
        "20383    Sitrep 206 07Nov\n",
        "20731    Sitrep 207 08Nov\n",
        "20887    Sitrep 208 09Nov\n",
        "21043    Sitrep 209 10Nov\n",
        "21199    Sitrep 210 11Nov\n",
        "21355    Sitrep 211 11Nov\n",
        "21511    Sitrep 212 13Nov\n",
        "21667    Sitrep 213 13Nov\n",
        "21823    Sitrep 214 15Nov\n",
        "Name: Link, Length: 120, dtype: object"
       ]
      }
     ],
     "prompt_number": 42
    },
    {
     "cell_type": "code",
     "collapsed": false,
     "input": [
      "#I like dictionaries\n",
      "countries_dict = {}\n",
      "countries = ebola_time_series.groupby('Country')\n",
      "for country_name, country_data in countries:\n",
      "   countries_dict[country_name]= country_data\n",
      "    "
     ],
     "language": "python",
     "metadata": {},
     "outputs": [],
     "prompt_number": 7
    },
    {
     "cell_type": "code",
     "collapsed": false,
     "input": [
      "def check(country):\n",
      "    for c in countries_dict[country]['Country']:\n",
      "        if c!=country:\n",
      "            print 'oops'"
     ],
     "language": "python",
     "metadata": {},
     "outputs": [],
     "prompt_number": 8
    },
    {
     "cell_type": "code",
     "collapsed": false,
     "input": [
      "def plot_country_cases(country, category):\n",
      "    cases= ebola_time_series[ebola_time_series['Category'].str.contains(category)& ebola_time_series['Localite'].str.contains('National')&ebola_time_series['Country'].str.contains(country)]\n",
      "    plt.plot(cases['Date'],cases['Value'])\n",
      "    plt.title(country)\n",
      "    plt.show()"
     ],
     "language": "python",
     "metadata": {},
     "outputs": [],
     "prompt_number": 46
    },
    {
     "cell_type": "code",
     "collapsed": false,
     "input": [
      "plot_country_cases('Liberia', 'Deaths')"
     ],
     "language": "python",
     "metadata": {},
     "outputs": [
      {
       "metadata": {},
       "output_type": "display_data",
       "png": "[encoded data removed]",
       "text": [
        "<matplotlib.figure.Figure at 0x108a90e10>"
       ]
      }
     ],
     "prompt_number": 48
    },
    {
     "cell_type": "code",
     "collapsed": false,
     "input": [],
     "language": "python",
     "metadata": {},
     "outputs": []
    }
   ],
   "metadata": {}
  }
 ]
}