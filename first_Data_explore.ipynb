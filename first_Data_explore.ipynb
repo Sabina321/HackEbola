{
 "metadata": {
  "name": "",
  "signature": "sha256:19fae0b07ad26aecd0febe4d5d18b78afc5ed93abe48e6366c9edfaa4684c1c5"
 },
 "nbformat": 3,
 "nbformat_minor": 0,
 "worksheets": [
  {
   "cells": [
    {
     "cell_type": "code",
     "collapsed": false,
     "input": [
      "import pandas as pd\n",
      "from pandas import DataFrame as df\n",
      "import xlrd\n",
      "import matplotlib.pyplot as plt"
     ],
     "language": "python",
     "metadata": {},
     "outputs": [],
     "prompt_number": 48
    },
    {
     "cell_type": "code",
     "collapsed": false,
     "input": [
      "filename = 'datasets/data-ebola-public.xlsx'"
     ],
     "language": "python",
     "metadata": {},
     "outputs": [],
     "prompt_number": 17
    },
    {
     "cell_type": "code",
     "collapsed": false,
     "input": [
      "#look at sheets: \n",
      "excel_book = xlrd.open_workbook(filename)\n",
      "excel_book.sheet_names()\n",
      "    "
     ],
     "language": "python",
     "metadata": {},
     "outputs": [
      {
       "metadata": {},
       "output_type": "pyout",
       "prompt_number": 21,
       "text": [
        "[u'Intro', u'ROWCA Ebola All Sec Review']"
       ]
      }
     ],
     "prompt_number": 21
    },
    {
     "cell_type": "code",
     "collapsed": false,
     "input": [
      "ebola_time_series = pd.read_excel(filename, 1)"
     ],
     "language": "python",
     "metadata": {},
     "outputs": [],
     "prompt_number": 22
    },
    {
     "cell_type": "code",
     "collapsed": false,
     "input": [
      "ebola_time_series.columns"
     ],
     "language": "python",
     "metadata": {},
     "outputs": [
      {
       "metadata": {},
       "output_type": "pyout",
       "prompt_number": 23,
       "text": [
        "Index([u'Country', u'Localite', u'Category', u'Value', u'Date', u'Sources', u'Link'], dtype='object')"
       ]
      }
     ],
     "prompt_number": 23
    },
    {
     "cell_type": "code",
     "collapsed": false,
     "input": [
      "ebola_time_series[:1]"
     ],
     "language": "python",
     "metadata": {},
     "outputs": [
      {
       "html": [
        "<div style=\"max-height:1000px;max-width:1500px;overflow:auto;\">\n",
        "<table border=\"1\" class=\"dataframe\">\n",
        "  <thead>\n",
        "    <tr style=\"text-align: right;\">\n",
        "      <th></th>\n",
        "      <th>Country</th>\n",
        "      <th>Localite</th>\n",
        "      <th>Category</th>\n",
        "      <th>Value</th>\n",
        "      <th>Date</th>\n",
        "      <th>Sources</th>\n",
        "      <th>Link</th>\n",
        "    </tr>\n",
        "  </thead>\n",
        "  <tbody>\n",
        "    <tr>\n",
        "      <th>0</th>\n",
        "      <td> Guinea</td>\n",
        "      <td> Guekedou, Macenta, Nzerekore and Kissidougou</td>\n",
        "      <td> Cases</td>\n",
        "      <td> 86</td>\n",
        "      <td>2014-03-24</td>\n",
        "      <td> WHO</td>\n",
        "      <td> http://reliefweb.int/sites/reliefweb.int/files...</td>\n",
        "    </tr>\n",
        "  </tbody>\n",
        "</table>\n",
        "</div>"
       ],
       "metadata": {},
       "output_type": "pyout",
       "prompt_number": 29,
       "text": [
        "  Country                                      Localite Category Value  \\\n",
        "0  Guinea  Guekedou, Macenta, Nzerekore and Kissidougou    Cases    86   \n",
        "\n",
        "        Date Sources                                               Link  \n",
        "0 2014-03-24     WHO  http://reliefweb.int/sites/reliefweb.int/files...  "
       ]
      }
     ],
     "prompt_number": 29
    },
    {
     "cell_type": "code",
     "collapsed": false,
     "input": [
      "#I like dictionaries\n",
      "countries_dict = {}\n",
      "countries = ebola_time_series.groupby('Country')\n",
      "for country_name, country_data in countries:\n",
      "   countries_dict[country_name]= country_data\n",
      "    "
     ],
     "language": "python",
     "metadata": {},
     "outputs": [],
     "prompt_number": 36
    },
    {
     "cell_type": "code",
     "collapsed": false,
     "input": [
      "def check(country):\n",
      "    for c in countries_dict[country]['Country']:\n",
      "        if c!=country:\n",
      "            print 'oops'"
     ],
     "language": "python",
     "metadata": {},
     "outputs": [],
     "prompt_number": 49
    },
    {
     "cell_type": "code",
     "collapsed": false,
     "input": [
      "def plot_country_cases(country):\n",
      "    plt.plot(countries_dict[country]['Date'],countries_dict[country]['Value'])\n",
      "    plt.show()"
     ],
     "language": "python",
     "metadata": {},
     "outputs": [],
     "prompt_number": 52
    },
    {
     "cell_type": "code",
     "collapsed": false,
     "input": [
      "plot_country_cases('Guinea')"
     ],
     "language": "python",
     "metadata": {},
     "outputs": []
    },
    {
     "cell_type": "code",
     "collapsed": false,
     "input": [],
     "language": "python",
     "metadata": {},
     "outputs": []
    }
   ],
   "metadata": {}
  }
 ]
}